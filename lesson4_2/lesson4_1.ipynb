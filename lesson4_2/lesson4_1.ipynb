{
 "cells": [
  {
   "cell_type": "code",
   "execution_count": 1,
   "id": "ceb41117",
   "metadata": {},
   "outputs": [],
   "source": [
    "### python 儲存"
   ]
  },
  {
   "cell_type": "markdown",
   "id": "a327b4a2",
   "metadata": {},
   "source": [
    "### python 儲存資料\n",
    "- 變數\n",
    "- list\n",
    "-dict\n"
   ]
  },
  {
   "cell_type": "markdown",
   "id": "f01d682d",
   "metadata": {},
   "source": []
  },
  {
   "cell_type": "markdown",
   "id": "dfd38b64",
   "metadata": {},
   "source": [
    "### python "
   ]
  }
 ],
 "metadata": {
  "kernelspec": {
   "display_name": "line_bot",
   "language": "python",
   "name": "python3"
  },
  "language_info": {
   "codemirror_mode": {
    "name": "ipython",
    "version": 3
   },
   "file_extension": ".py",
   "mimetype": "text/x-python",
   "name": "python",
   "nbconvert_exporter": "python",
   "pygments_lexer": "ipython3",
   "version": "3.12.11"
  }
 },
 "nbformat": 4,
 "nbformat_minor": 5
}
